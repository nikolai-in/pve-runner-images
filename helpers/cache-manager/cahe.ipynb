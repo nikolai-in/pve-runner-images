{
 "cells": [
  {
   "cell_type": "code",
   "execution_count": 21,
   "id": "152b0e40",
   "metadata": {},
   "outputs": [],
   "source": [
    "import requests\n",
    "import json"
   ]
  },
  {
   "cell_type": "code",
   "execution_count": null,
   "id": "10e38696",
   "metadata": {},
   "outputs": [
    {
     "name": "stdout",
     "output_type": "stream",
     "text": [
      "2025-07-31 19:28:45,134 - INFO - root - Logging is configured. Console and file output enabled.\n"
     ]
    }
   ],
   "source": [
    "# Robust logging configuration\n",
    "import logging\n",
    "import sys\n",
    "\n",
    "# Remove all handlers associated with the root logger object\n",
    "for handler in logging.root.handlers[:]:\n",
    "    logging.root.removeHandler(handler)\n",
    "\n",
    "LOG_FORMAT = '%(asctime)s - %(levelname)s - %(name)s - %(message)s'\n",
    "LOG_LEVEL = logging.DEBUG\n",
    "\n",
    "# Create handlers\n",
    "console_handler = logging.StreamHandler(sys.stdout)\n",
    "console_handler.setLevel(LOG_LEVEL)\n",
    "console_handler.setFormatter(logging.Formatter(LOG_FORMAT))\n",
    "\n",
    "\n",
    "# Get root logger and set level\n",
    "logger = logging.getLogger()\n",
    "logger.setLevel(LOG_LEVEL)\n",
    "logging.getLogger(\"urllib3.connectionpool\").setLevel(logging.WARNING)\n",
    "\n",
    "# Add handlers if not already present\n",
    "if not any(isinstance(h, logging.StreamHandler) for h in logger.handlers):\n",
    "    logger.addHandler(console_handler)\n",
    "\n",
    "# Example usage:\n",
    "logger.info('Logging is configured. Console and file output enabled.')"
   ]
  },
  {
   "cell_type": "code",
   "execution_count": 23,
   "id": "b60b5134",
   "metadata": {},
   "outputs": [],
   "source": [
    "UPSTREAM_REPO = \"actions/runner-images\""
   ]
  },
  {
   "cell_type": "code",
   "execution_count": 24,
   "id": "e2533bff",
   "metadata": {},
   "outputs": [],
   "source": [
    "# releases_page = requests.get(\n",
    "#             f\"https://api.github.com/repos/{UPSTREAM_REPO}/releases\",\n",
    "#             params={'per_page': 1, 'page': 1}\n",
    "#         )\n",
    "\n",
    "# releases_page.json()\n"
   ]
  },
  {
   "cell_type": "code",
   "execution_count": 25,
   "id": "6ddcf82b",
   "metadata": {},
   "outputs": [],
   "source": [
    "from typing import Optional, Iterable\n",
    "def fetch_last_software_report(templates: Optional[Iterable[str]] = None, repo: str = UPSTREAM_REPO, max_releases: int = 10) -> dict[str, dict]:\n",
    "    \"\"\"\n",
    "    Fetches latest Runner Images software reports (internal.{os}.json) from the upstream repository.\n",
    "\n",
    "    Args:\n",
    "        templates (Iterable[str], optional): Iterable of templates to get software report internal json for. If None or empty, fetches unique internal.{os}.json for last max_releases releases.\n",
    "        repo (str): The GitHub repository to fetch the reports from.\n",
    "        max_releases (int): Number of releases to check if templates is empty.\n",
    "    Returns:\n",
    "        dict[str, dict]: A dictionary where keys are template names and values are the contents of the software report for that template.\n",
    "    Example:\n",
    "        >>> fetch_last_software_report(['win25', 'ubuntu24'])\n",
    "        {\n",
    "            'win25': {\"NodeType\": \"HeaderNode\", \"Title\": \"Windows Server 2025\", ...},\n",
    "            'ubuntu24': {\"NodeType\": \"HeaderNode\", \"Title\": \"Ubuntu 24.04\", ...}\n",
    "        }\n",
    "        >>> fetch_last_software_report()\n",
    "        { ...unique reports for last max_releases releases... }\n",
    "    \"\"\"\n",
    "\n",
    "    reports = {}\n",
    "    page = 1\n",
    "    releases_checked = 0\n",
    "    if templates:\n",
    "        templates = set(templates)\n",
    "    else:\n",
    "        templates = set()\n",
    "\n",
    "    while (templates or not templates) and releases_checked < max_releases:\n",
    "        try:\n",
    "            releases_page = requests.get(\n",
    "                f\"https://api.github.com/repos/{repo}/releases\",\n",
    "                params={'per_page': 100, 'page': page}\n",
    "            )\n",
    "            releases_page.raise_for_status()\n",
    "        except requests.exceptions.RequestException as e:\n",
    "            logger.error(f\"Error fetching releases: {e}\")\n",
    "            break\n",
    "\n",
    "        releases = releases_page.json()\n",
    "        if not releases:\n",
    "            break  # No more pages\n",
    "        for release in releases:\n",
    "            if releases_checked >= max_releases:\n",
    "                break\n",
    "            tag_name = release.get('tag_name', '')\n",
    "            template_key = tag_name.split('/')[0]\n",
    "            if template_key in reports:\n",
    "                continue  # Already fetched, skip further processing\n",
    "            found_asset = False\n",
    "            for asset in release.get('assets', []):\n",
    "                if asset['name'].startswith('internal.') and asset['name'].endswith('.json'):\n",
    "                    if not templates or template_key in templates:\n",
    "                        try:\n",
    "                            response = requests.get(asset['browser_download_url'])\n",
    "                            response.raise_for_status()\n",
    "                            reports[template_key] = response.json()\n",
    "                            logger.info(f\"Fetched report for {template_key}\")\n",
    "                            found_asset = True\n",
    "                        except requests.exceptions.RequestException as e:\n",
    "                            logger.error(f\"Error fetching asset for {template_key}: {e}\")\n",
    "                    break\n",
    "            if not found_asset and (not templates or template_key in templates):\n",
    "                logger.warning(f\"No internal asset found for {template_key} in release {tag_name}\")\n",
    "            if templates and template_key in templates:\n",
    "                templates.remove(template_key)\n",
    "            # Only increment releases_checked once per release\n",
    "            releases_checked += 1\n",
    "        page += 1\n",
    "\n",
    "    return reports\n"
   ]
  },
  {
   "cell_type": "code",
   "execution_count": 26,
   "id": "b69d261a",
   "metadata": {},
   "outputs": [
    {
     "name": "stdout",
     "output_type": "stream",
     "text": [
      "2025-07-31 19:28:46,369 - INFO - root - Fetched report for ubuntu24\n",
      "2025-07-31 19:28:46,810 - INFO - root - Fetched report for ubuntu22\n",
      "2025-07-31 19:28:47,255 - INFO - root - Fetched report for macos-14-arm64\n",
      "2025-07-31 19:28:47,701 - INFO - root - Fetched report for win25\n",
      "2025-07-31 19:28:48,137 - INFO - root - Fetched report for win22\n",
      "2025-07-31 19:28:48,580 - INFO - root - Fetched report for macos-14\n",
      "2025-07-31 19:28:49,047 - INFO - root - Fetched report for macos-13\n",
      "2025-07-31 19:28:49,481 - INFO - root - Fetched report for macos-13-arm64\n",
      "2025-07-31 19:28:49,927 - INFO - root - Fetched report for macos-15\n",
      "2025-07-31 19:28:50,371 - INFO - root - Fetched report for macos-15-arm64\n"
     ]
    }
   ],
   "source": [
    "reports = fetch_last_software_report()"
   ]
  }
 ],
 "metadata": {
  "kernelspec": {
   "display_name": ".venv",
   "language": "python",
   "name": "python3"
  },
  "language_info": {
   "codemirror_mode": {
    "name": "ipython",
    "version": 3
   },
   "file_extension": ".py",
   "mimetype": "text/x-python",
   "name": "python",
   "nbconvert_exporter": "python",
   "pygments_lexer": "ipython3",
   "version": "3.13.5"
  }
 },
 "nbformat": 4,
 "nbformat_minor": 5
}
